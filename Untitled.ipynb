{
 "cells": [
  {
   "cell_type": "markdown",
   "metadata": {},
   "source": [
    "######################## BCB 546X: Python Assignment Details ########################\n",
    "\n",
    "# ** Your Mission: Complete Python code in a Jupyter Notebook ** #\n",
    "\n",
    "# Functions #\n",
    "## 1. Document Dr. X's function with comments and with markdown text in your Jupyter notebook.\n",
    "## 2. Write a function that translates a string of nucleotides to amino acids based on Dr. X's pseudo-code suggestion.\n",
    "## 3. Write an alternative translation function.\n",
    "## 4. Write a function that calculates the molecular weight of each amino acid sequence.\n",
    "## 5. Write a function that computes the GC-content of each DNA sequence.\n",
    "\n",
    "#-- In the MAIN part of the script --#\n",
    "## 6. Add two new columns to the bears DataFrame: (1) molecular weight and (2) GC content.\n",
    "## 7. Call your functions from step 3 (or step 2) and step 4 and 5 and fill in the new columns in the DataFrame.\n",
    "## 8. Plot a bar-chart of adult body mass per species. In your description of the graph, provide text that answers these questions: \n",
    "##     a. What is the largest bear species? \n",
    "##     b. What else is interesting about this species?\n",
    "## 9. Plot a graph that shows the molecular weight as a function of GC content. \n",
    "## 10. Write the entire DataFrame to a new CSV file that includes your new columns.\n",
    "## 11. BONUS: What other visualizations, functions or tasks would you do with this dataset? Add something interesting for fun. (0.5 additional points if your total score is < 15).\n",
    "\n",
    "#-- Additional Instructions (points will be deducted if these instructions are not heeded) --#\n",
    "## ** Do all of this in a Jupyter notebook and push it to a GitHub repository.\n",
    "## ** Read all comments carefully and answer the questions by including information in your Jupyter notebook.\n",
    "## ** Document all of your code (and Dr. X's code) very thoroughly so that it is clear what you did.\n",
    "## ** Be sure to cite (by providing URLs or other appropriate citations) information appropriately in your documented notebook.\n",
    "## ** Commit and push your completed work in the Jupyter notebook to your repository.\n",
    "## ** Submit the URL to your git repository via Canvas by the end of the day on November 16, 2018.\n",
    "\n",
    "#-- Disclaimer --#\n",
    "## Not all of these tasks have been covered in class and you will have to use online resources to find out how to do some of these tasks.\n",
    "\n",
    "\n",
    "######################## Python Translate Script ########################\n",
    "\n",
    "## Here's the start of our Python script. Thanks for completing it for me! - Dr. X\n",
    "## IMPORTANT: install BioPython so that this will work\n",
    "\n",
    "from Bio import SeqIO\n",
    "from Bio.Data import CodonTable\n",
    "import pandas as pd\n",
    "\n",
    "#%%%%%%%%%%%%%%%#\n",
    "### FUNCTIONS ###\n",
    "#%%%%%%%%%%%%%%%#\n",
    "\n",
    "## 1 ##\n",
    "## Dr. X: this gets sequences \n",
    "## Please finish documenting this function with comments, or in notebook markdown text\n",
    "## Your descriptions of all functions should contain information about what the function does,\n",
    "## as well as information about the return types and arguments.\n",
    "def get_sequences_from_file(fasta_fn):\n",
    "    sequence_data_dict = {}\n",
    "    for record in SeqIO.parse(fasta_fn, \"fasta\"):\n",
    "        description = record.description.split()\n",
    "        species_name = description[1] + \" \" + description[2]\n",
    "        sequence_data_dict[species_name] = record.seq\n",
    "    return(sequence_data_dict)\n",
    "\n",
    "## 2 ##\n",
    "####### YOUR STRING-TRANSLATE FUNCTION ########\n",
    "## Write a function that translates sequences\n",
    "## All sequences start at codon position 1\n",
    "## Complete a function that translates using a loop over the string of nucleotides\n",
    "## Here is  some pseudo-code and suggestions\n",
    "## feel free to change the function and variable names\n",
    "# def translate_function(string_nucleotides): \n",
    "#     mito_table = CodonTable.unambiguous_dna_by_name[\"Vertebrate Mitochondrial\"] # this should work using BioPython (be sure to check what this returns)\n",
    "#     for-loop through every 3rd position in string_nucleotides to get the codon using range subsets\n",
    "#         # IMPORTANT: if the sequence has a stop codon at the end, you should leave it off\n",
    "#         # this is how you can retrieve the amino acid: mito_table.forward_table[codon]\n",
    "#         add the aa to aa_seq_string\n",
    "#     return(aa_seq_string)\n",
    "\n",
    "## 3 ##\n",
    "####### YOUR ALTERNATIVE FUNCTION ########\n",
    "## Is there a better way to write the translation function? (Hint: yes there is.) \n",
    "## Perhaps using available BioPython library utilities?\n",
    "## Please also write this function.\n",
    "\n",
    "\n",
    "## 4 ##\n",
    "####### YOUR COUNT AA ANALYSIS FUNCTION ########\n",
    "## Write a function that calculates the molecular weight of each amino acid sequence.\n",
    "## For this, you can use some BioPython functions. I think you can use the ProtParam module.\n",
    "## For more info, check this out: http://biopython.org/wiki/ProtParam\n",
    "## So you should import the following before defining your function:\n",
    "from Bio.SeqUtils.ProtParam import ProteinAnalysis\n",
    "# def compute_molecular_weight(aa_seq):\n",
    "#     # I think the ProtParam functions may require aa_seq to be a string.\n",
    "#     # It may not work if the amino acid sequence has stop codons.\n",
    "#     run the ProteinAnalysis() function on aa_seq\n",
    "#\t  return the molecular weight\n",
    "\n",
    "## 5 ##\n",
    "####### YOUR GC CONTENT ANALYSIS FUNCTION ########\n",
    "## Write a function that calculates the GC-content (proportion of \"G\" and \"C\") of each DNA sequence and returns this value.\n",
    "\n",
    "\n",
    "#%%%%%%%%%%%%%%#\n",
    "###   MAIN   ###\n",
    "#%%%%%%%%%%%%%%#\n",
    "\n",
    "cytb_seqs = get_sequences_from_file(\"bears_cytb.fasta\") \n",
    "\n",
    "bears_df = pd.read_csv(\"bears_mass.csv\") # Includes only data for body mass \n",
    "species_list = list(bears_df.species)\n",
    "\n",
    "## 6 ## \n",
    "## Add two new columns to the bears DataFrame: (1) molecular weight and (2) GC content.\n",
    "## Set the value to 'NaN' to indicate that these cells are currently empty.\n",
    "\n",
    "## 7 ##\n",
    "## Write a for-loop that translates each sequence and also gets molecular weight and computes the GC content\n",
    "## of each translated sequence and adds those data to DataFrame\n",
    "# for key, value in cytb_seqs.items():\n",
    "#     aa_seq = nuc2aa_translate_function(value) # whichever function you prefer of #2 or #3\n",
    "#     get the molecular weight of aa_seq\n",
    "#     get the GC content of the DNA sequence\n",
    "#     fill in empty cells in DF that you created above\n",
    "\n",
    "## 8 ##\n",
    "## Plot a bar-chart of the mass with the x-axes labeled with species names.\n",
    "## *Q1* What is the largest bear species? \n",
    "## *Q2* What else is interesting about this species?\n",
    "\n",
    "## 9 ##\n",
    "## Plot a visualization of the molecular weight (y-axis) as a function of GC-content (x-axis).\n",
    "\n",
    "## 10 ##\n",
    "## Save the new DataFrame to a file called \"bears_mass_cytb.csv\"\n",
    "\n",
    "## 11 - BONUS ##\n",
    "## What else can we do with this dataset in Python? \n",
    "## Add functions or anything that might be interesting and fun. (optional)"
   ]
  },
  {
   "cell_type": "markdown",
   "metadata": {},
   "source": [
    "# Question 1"
   ]
  },
  {
   "cell_type": "markdown",
   "metadata": {},
   "source": [
    "### We first need to import the necessary packages and ensure they are installed."
   ]
  },
  {
   "cell_type": "code",
   "execution_count": 1,
   "metadata": {},
   "outputs": [],
   "source": [
    "from Bio import SeqIO\n",
    "from Bio.Data import CodonTable\n",
    "import pandas as pd"
   ]
  },
  {
   "cell_type": "markdown",
   "metadata": {},
   "source": [
    "### This is the code Dr. X provided that needs to be annotated."
   ]
  },
  {
   "cell_type": "code",
   "execution_count": 2,
   "metadata": {},
   "outputs": [],
   "source": [
    "def get_sequences_from_file(fasta_fn):\n",
    "    sequence_data_dict = {}\n",
    "    for record in SeqIO.parse(fasta_fn, \"fasta\"):\n",
    "        description = record.description.split()\n",
    "        species_name = description[1] + \" \" + description[2]\n",
    "        sequence_data_dict[species_name] = record.seq\n",
    "    return(sequence_data_dict)"
   ]
  },
  {
   "cell_type": "markdown",
   "metadata": {},
   "source": [
    "#### This code obtains the sequence that we need to use, which must be a fasta file. First, an empty dictionary is created called \"sequence_data_dict\". For each \"record\" in the fasta file, the for loop does the following steps: First, the header of the fasta file is split out using \"record.description.split()\". Each element of the header is distinguished by blank space. Then, the species name is pulled out in the second line using columns 2 and 3, which gives us the taxonomic classification of the organism we got the DNA from. The last step is to add the DNA to our sequence dictionary using the species name as the index."
   ]
  },
  {
   "cell_type": "markdown",
   "metadata": {},
   "source": [
    "# Question 2"
   ]
  },
  {
   "cell_type": "markdown",
   "metadata": {},
   "source": [
    "### We need to create a function that translates sequences into amino acids"
   ]
  },
  {
   "cell_type": "code",
   "execution_count": 3,
   "metadata": {},
   "outputs": [],
   "source": [
    "def translate_function(string_nucleotides):\n",
    "    mito_table = CodonTable.unambiguous_dna_by_name[\"Vertebrate Mitochondrial\"]\n",
    "    aa_seq_string = \" \"\n",
    "    for i in range(0, len(string_nucleotides), 3):\n",
    "        codon = string_nucleotides[i:i+3]\n",
    "        if (codon == \"TAG\" or codon == \"TAA\" or codon == \"AGA\" or codon == \"AGG\"):\n",
    "            break\n",
    "        else: \n",
    "            aa_seq_string += mito_table.forward_table[codon]\n",
    "    return aa_seq_string"
   ]
  },
  {
   "cell_type": "markdown",
   "metadata": {},
   "source": [
    "This function works by accessing the codon table on NCBI, specifically the \"Vertebrate Mitochondrial\" table. A new string variable is created called \"aa_seq_string\". The for loop ranges from 0 to the length of the nucleotide string and counts by 3. Within the for loop, the codon is defined by indexing the \"string_nucleotides\" variable from i to i plus 3, which gives a 3 base string. The loop then checks if the codon is one of the stop codons; if it is, the loop terminates and the \"aa_seq_string\" is returned. If the codon is not a stop codon, it is translated according to the table and added to \"aa_seq_string\". Once the for loop has completed (if not terminated early due to stop codon), the \"aa_seq_string\" will be returned. The stop codons were determined by looking at the table that was selected."
   ]
  },
  {
   "cell_type": "markdown",
   "metadata": {},
   "source": [
    "# Question 3"
   ]
  },
  {
   "cell_type": "markdown",
   "metadata": {},
   "source": [
    "### What is an alternate translation function?"
   ]
  },
  {
   "cell_type": "code",
   "execution_count": 4,
   "metadata": {},
   "outputs": [],
   "source": [
    "from Bio.Seq import Seq\n",
    "from Bio.Alphabet import IUPAC\n",
    "def alt_translation_function(string_nucleotides):\n",
    "    cdna = Seq(\"string_nucleotides\", IUPAC.unambiguous_dna)\n",
    "    aa_seq = cdna.translate(table=\"Vertebrate Mitochondrial\", to_stop=True)\n",
    "    return(aa_seq)"
   ]
  },
  {
   "cell_type": "markdown",
   "metadata": {},
   "source": [
    "This function works by accessing the codon table on NCBI, specifically the \"Vertebrate Mitochondrial\" table. A seq object named \"cdna\" is made that contains the \"string_nucleotides\" variable and the type of codon table to be used (ambiguous versus unambiguous and dna versus rna). The \".translate\" function is told which specific table to use and whether or not to stop at the first stop codon encountered while translating the sequence provided from \"cdna\". This was found on the Biopython Tutorial and Cookbook (http://biopython.org/DIST/docs/tutorial/Tutorial.html#htoc25)"
   ]
  },
  {
   "cell_type": "markdown",
   "metadata": {},
   "source": [
    "# Question 4"
   ]
  },
  {
   "cell_type": "markdown",
   "metadata": {},
   "source": [
    "### We need a function to determine the molecular weight of an amino acid sequence"
   ]
  },
  {
   "cell_type": "code",
   "execution_count": 26,
   "metadata": {},
   "outputs": [],
   "source": [
    "from Bio.SeqUtils.ProtParam import ProteinAnalysis\n",
    "def molecular_weight(aa_seq):\n",
    "    analysed_seq = ProteinAnalysis(aa_seq)\n",
    "    molecular_weight = analysed_seq.molecular_weight()\n",
    "    print(molecular_weight)\n",
    "    return(molecular_weight)"
   ]
  },
  {
   "cell_type": "markdown",
   "metadata": {},
   "source": [
    "This function works by running the amino acid string through the ProteinAnalysis module within BioPython and the resulting output can be used to calculate various characteristics of the protein. After the protein string is analysed, the molecular weight is assigned to a variable using the command \".molecular_weight()\". The molecular weight is then printed and returned."
   ]
  },
  {
   "cell_type": "markdown",
   "metadata": {},
   "source": [
    "# Question 5"
   ]
  },
  {
   "cell_type": "markdown",
   "metadata": {},
   "source": [
    "### We need a function that calculates the GC-content of a DNA string "
   ]
  },
  {
   "cell_type": "code",
   "execution_count": null,
   "metadata": {},
   "outputs": [],
   "source": []
  },
  {
   "cell_type": "code",
   "execution_count": null,
   "metadata": {},
   "outputs": [],
   "source": []
  },
  {
   "cell_type": "code",
   "execution_count": null,
   "metadata": {},
   "outputs": [],
   "source": []
  },
  {
   "cell_type": "code",
   "execution_count": null,
   "metadata": {},
   "outputs": [],
   "source": []
  }
 ],
 "metadata": {
  "kernelspec": {
   "display_name": "Python 3",
   "language": "python",
   "name": "python3"
  },
  "language_info": {
   "codemirror_mode": {
    "name": "ipython",
    "version": 3
   },
   "file_extension": ".py",
   "mimetype": "text/x-python",
   "name": "python",
   "nbconvert_exporter": "python",
   "pygments_lexer": "ipython3",
   "version": "3.7.0"
  }
 },
 "nbformat": 4,
 "nbformat_minor": 2
}
