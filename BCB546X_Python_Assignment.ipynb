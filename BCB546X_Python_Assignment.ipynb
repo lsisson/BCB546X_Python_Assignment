{
 "cells": [
  {
   "cell_type": "markdown",
   "metadata": {},
   "source": [
    "# BCB546X - Python Assignment - Lyle Sisson"
   ]
  },
  {
   "cell_type": "markdown",
   "metadata": {},
   "source": [
    "# Functions of the Script"
   ]
  },
  {
   "cell_type": "markdown",
   "metadata": {},
   "source": [
    "## Question 1"
   ]
  },
  {
   "cell_type": "markdown",
   "metadata": {},
   "source": [
    "### We first need to import the necessary packages and ensure they are installed."
   ]
  },
  {
   "cell_type": "code",
   "execution_count": 1,
   "metadata": {},
   "outputs": [],
   "source": [
    "from Bio import SeqIO\n",
    "from Bio.Data import CodonTable\n",
    "import pandas as pd\n",
    "from Bio.Seq import Seq\n",
    "from Bio.Alphabet import IUPAC\n",
    "from Bio.SeqUtils.ProtParam import ProteinAnalysis\n",
    "from Bio.SeqUtils import GC\n",
    "import matplotlib.pyplot as plt; plt.rcdefaults()\n",
    "import numpy as np\n",
    "import matplotlib.pyplot as plt"
   ]
  },
  {
   "cell_type": "markdown",
   "metadata": {},
   "source": [
    "### This is the code Dr. X provided that needs to be annotated."
   ]
  },
  {
   "cell_type": "code",
   "execution_count": 2,
   "metadata": {},
   "outputs": [],
   "source": [
    "def get_sequences_from_file(fasta_fn):\n",
    "    sequence_data_dict = {}\n",
    "    for record in SeqIO.parse(fasta_fn, \"fasta\"):\n",
    "        description = record.description.split()\n",
    "        species_name = description[1] + \" \" + description[2]\n",
    "        sequence_data_dict[species_name] = record.seq\n",
    "    return(sequence_data_dict)"
   ]
  },
  {
   "cell_type": "markdown",
   "metadata": {},
   "source": [
    "This code obtains the sequence that we need to use, which must be a fasta file. First, an empty dictionary is created called \"sequence_data_dict\". For each \"record\" in the fasta file, the for loop does the following steps: First, the header of the fasta file is split out using \"record.description.split()\". Each element of the header is distinguished by blank space. Then, the species name is pulled out in the second line using columns 2 and 3, which gives us the taxonomic classification of the organism we got the DNA from. The last step is to add the DNA to our sequence dictionary using the species name as the index."
   ]
  },
  {
   "cell_type": "markdown",
   "metadata": {},
   "source": [
    "## Question 2"
   ]
  },
  {
   "cell_type": "markdown",
   "metadata": {},
   "source": [
    "### We need to create a function that translates sequences into amino acids"
   ]
  },
  {
   "cell_type": "code",
   "execution_count": 3,
   "metadata": {},
   "outputs": [],
   "source": [
    "def translation_fxn(string_nucleotides):\n",
    "    mito_table = CodonTable.unambiguous_dna_by_name[\"Vertebrate Mitochondrial\"]\n",
    "    aa_seq_string = \" \"\n",
    "    for i in range(0, len(string_nucleotides), 3):\n",
    "        codon = string_nucleotides[i:i+3]\n",
    "        if (codon == \"TAG\" or codon == \"TAA\" or codon == \"AGA\" or codon == \"AGG\"):\n",
    "            break\n",
    "        else: \n",
    "            aa_seq_string += mito_table.forward_table[codon]\n",
    "    return aa_seq_string"
   ]
  },
  {
   "cell_type": "markdown",
   "metadata": {},
   "source": [
    "This function works by accessing the codon table on NCBI, specifically the \"Vertebrate Mitochondrial\" table. A new string variable is created called \"aa_seq_string\". The for loop ranges from 0 to the length of the nucleotide string and counts by 3. Within the for loop, the codon is defined by indexing the \"string_nucleotides\" variable from i to i plus 3, which gives a 3 base string. The loop then checks if the codon is one of the stop codons; if it is, the loop terminates and the \"aa_seq_string\" is returned. If the codon is not a stop codon, it is translated according to the table and added to \"aa_seq_string\". Once the for loop has completed (if not terminated early due to stop codon), the \"aa_seq_string\" will be returned. The stop codons were determined by looking at the table that was selected."
   ]
  },
  {
   "cell_type": "markdown",
   "metadata": {},
   "source": [
    "# Question 3"
   ]
  },
  {
   "cell_type": "markdown",
   "metadata": {},
   "source": [
    "### What is an alternate translation function?"
   ]
  },
  {
   "cell_type": "code",
   "execution_count": 4,
   "metadata": {},
   "outputs": [],
   "source": [
    "def alt_translation_function(string_nucleotides):\n",
    "    cdna = Seq(string_nucleotides, IUPAC.unambiguous_dna)\n",
    "    aa_seq = cdna.translate(table=\"Vertebrate Mitochondrial\", to_stop=True)\n",
    "    return(aa_seq)"
   ]
  },
  {
   "cell_type": "markdown",
   "metadata": {},
   "source": [
    "This function works by accessing the codon table on NCBI, specifically the \"Vertebrate Mitochondrial\" table. A seq object named \"cdna\" is made that contains the \"string_nucleotides\" variable and the type of codon table to be used (ambiguous versus unambiguous and dna versus rna). The \".translate\" function is told which specific table to use and whether or not to stop at the first stop codon encountered while translating the sequence provided from \"cdna\". This was found on the Biopython Tutorial and Cookbook (http://biopython.org/DIST/docs/tutorial/Tutorial.html#htoc25)."
   ]
  },
  {
   "cell_type": "markdown",
   "metadata": {},
   "source": [
    "# Question 4"
   ]
  },
  {
   "cell_type": "markdown",
   "metadata": {},
   "source": [
    "### We need a function to determine the molecular weight of an amino acid sequence"
   ]
  },
  {
   "cell_type": "code",
   "execution_count": 5,
   "metadata": {},
   "outputs": [],
   "source": [
    "def molecular_weight(aa_seq):\n",
    "    analysed_seq = ProteinAnalysis(aa_seq)\n",
    "    molecular_weight = analysed_seq.molecular_weight()\n",
    "    return(molecular_weight)"
   ]
  },
  {
   "cell_type": "markdown",
   "metadata": {},
   "source": [
    "This function works by running the amino acid string through the \"ProteinAnalysis\" module within BioPython and the resulting output can be used to calculate various characteristics of the protein. After the protein string is analysed, the molecular weight is assigned to a variable using the command \".molecular_weight()\". The molecular weight is then returned. This module was found on the \"ProtParam\" module website (https://biopython.org/wiki/ProtParam)."
   ]
  },
  {
   "cell_type": "markdown",
   "metadata": {},
   "source": [
    "# Question 5"
   ]
  },
  {
   "cell_type": "markdown",
   "metadata": {},
   "source": [
    "### We need a function that calculates the GC-content of a DNA string "
   ]
  },
  {
   "cell_type": "code",
   "execution_count": 6,
   "metadata": {},
   "outputs": [],
   "source": [
    "def GC_Content(string_nucleotides):\n",
    "    return(GC(string_nucleotides))"
   ]
  },
  {
   "cell_type": "markdown",
   "metadata": {},
   "source": [
    "This function makes use of the \"GC\" module within BioPython. The function \"GC\" takes a string of nucleotides and calculates the GC-percentage and returns the value as a float. This module was found on the Bio.SeqUtils help website (http://biopython.org/DIST/docs/api/Bio.SeqUtils-module.html)."
   ]
  },
  {
   "cell_type": "markdown",
   "metadata": {},
   "source": [
    "# Main Part of the Script"
   ]
  },
  {
   "cell_type": "markdown",
   "metadata": {},
   "source": [
    "### Question 6"
   ]
  },
  {
   "cell_type": "markdown",
   "metadata": {},
   "source": [
    "### The data needs to be pulled into Python first"
   ]
  },
  {
   "cell_type": "code",
   "execution_count": 7,
   "metadata": {},
   "outputs": [],
   "source": [
    "bear_mass_df = pd.read_csv(\"bears_mass.csv\")\n",
    "bear_cytb_seq = get_sequences_from_file(\"bears_cytb.fasta\")\n",
    "species_list = list(bear_mass_df.species)"
   ]
  },
  {
   "cell_type": "code",
   "execution_count": 8,
   "metadata": {},
   "outputs": [],
   "source": [
    "bear_mass_df['Molecular_Weight'] = 'NaN'\n",
    "bear_mass_df['GC_Content'] = 'NaN'"
   ]
  },
  {
   "cell_type": "markdown",
   "metadata": {},
   "source": [
    "This two line command adds two new columns, \"Molecular Weight\" and \"GC_Content\", and fills in the values with NaN, which indicates there is not a number in the cell."
   ]
  },
  {
   "cell_type": "markdown",
   "metadata": {},
   "source": [
    "# Question 7"
   ]
  },
  {
   "cell_type": "markdown",
   "metadata": {},
   "source": [
    "### The columns \"Molecular Weight\" and \"GC_Content\" need to be filled in"
   ]
  },
  {
   "cell_type": "code",
   "execution_count": 9,
   "metadata": {},
   "outputs": [
    {
     "name": "stderr",
     "output_type": "stream",
     "text": [
      "/anaconda3/lib/python3.7/site-packages/Bio/Seq.py:163: BiopythonWarning: Biopython Seq objects now use string comparison. Older versions of Biopython used object comparison. During this transition, please use hash(id(my_seq)) or my_dict[id(my_seq)] if you want the old behaviour, or use hash(str(my_seq)) or my_dict[str(my_seq)] for the new string hashing behaviour.\n",
      "  \"the new string hashing behaviour.\", BiopythonWarning)\n"
     ]
    }
   ],
   "source": [
    "for bear, row in bear_mass_df.iterrows():\n",
    "    aa_seq = translation_fxn(bear_cytb_seq[row['species']])\n",
    "    bear_mw = molecular_weight(aa_seq)\n",
    "    bear_gc = GC_Content(bear_cytb_seq[row['species']])\n",
    "    bear_mass_df.loc[bear, 'Molecular_Weight'] = bear_mw\n",
    "    bear_mass_df.loc[bear, 'GC_Content'] = bear_gc"
   ]
  },
  {
   "cell_type": "markdown",
   "metadata": {},
   "source": [
    "The \"for loop\" loops through each bear species and row in the bear_mass dataframe; the proper sequence is obtained by accessing the row in the bear_cytb_seq and pulling the sequence according to the species name. Within each step of the loop, the amino acid sequence for each species is first pulled using the \"species\" identifier to pull the DNA sequence and then translate that using the \"translation_fxn\". The molecular weight is then obtained for each amino acid sequence using the \"molecular_weight\" function and the GC-content is calculated using the \"GC_Content\" function. Finally, the values are added to the data frame using a \".loc\" attribute which allows indexing of the row first followed by the column index to specify the appropriate cell. "
   ]
  },
  {
   "cell_type": "markdown",
   "metadata": {},
   "source": [
    "# Question 8"
   ]
  },
  {
   "cell_type": "markdown",
   "metadata": {},
   "source": [
    "### Bar Chart of Adult-Body Mass vs. Species"
   ]
  },
  {
   "cell_type": "code",
   "execution_count": 25,
   "metadata": {},
   "outputs": [
    {
     "data": {
      "image/png": "[encoded data removed]",
      "text/plain": [
       "<Figure size 432x288 with 1 Axes>"
      ]
     },
     "metadata": {
      "needs_background": "light"
     },
     "output_type": "display_data"
    }
   ],
   "source": [
    "plt.bar(species_list, bear_mass_df.mass, width = 0.75, color = ('Red', 'Green', 'Blue', 'Cyan', 'Magenta', 'Yellow', 'Black', 'Purple', 'Teal'))\n",
    "plt.xticks(rotation=45, ha = 'right')\n",
    "plt.xlabel('Species')\n",
    "plt.ylabel('Mass (kg)')\n",
    "plt.title('Bear Species and Mass')\n",
    "plt.show()"
   ]
  },
  {
   "cell_type": "markdown",
   "metadata": {},
   "source": [
    "This graph is generated using the \"matplotlib.pyplot\" and \"numpy\" packages. The largest bear species is Ursus spelaeus. They are a now extinct species of bears known as Cave Bears; they are believed to have gone extinct approximately 24,000 years ago. This module was found on the following website: https://pythonspot.com/matplotlib-bar-chart/."
   ]
  },
  {
   "cell_type": "markdown",
   "metadata": {},
   "source": [
    "# Question 9"
   ]
  },
  {
   "cell_type": "markdown",
   "metadata": {},
   "source": [
    "### Graph of Molecular Weight as a function of GC-Content"
   ]
  },
  {
   "cell_type": "code",
   "execution_count": 19,
   "metadata": {},
   "outputs": [
    {
     "data": {
      "image/png": "[encoded data removed]",
      "text/plain": [
       "<Figure size 432x288 with 1 Axes>"
      ]
     },
     "metadata": {
      "needs_background": "light"
     },
     "output_type": "display_data"
    }
   ],
   "source": [
    "plt.scatter(bear_mass_df.GC_Content, bear_mass_df.Molecular_Weight, alpha=0.5)\n",
    "plt.xlabel('GC_Content', fontsize=18)\n",
    "plt.ylabel('Molecular_Weight', fontsize=18)\n",
    "plt.title('Bear Species and Mass')\n",
    "plt.show()"
   ]
  },
  {
   "cell_type": "markdown",
   "metadata": {},
   "source": [
    "The same module was used to make this graph and the previous graph."
   ]
  },
  {
   "cell_type": "markdown",
   "metadata": {},
   "source": [
    "# Question 10"
   ]
  },
  {
   "cell_type": "markdown",
   "metadata": {},
   "source": [
    "### Need to write the bear_mass_df to a CSV file"
   ]
  },
  {
   "cell_type": "code",
   "execution_count": 12,
   "metadata": {},
   "outputs": [],
   "source": [
    "bear_mass_df.to_csv(\"Bear_Mass_Cytb.csv\", index = False)"
   ]
  },
  {
   "cell_type": "markdown",
   "metadata": {},
   "source": [
    "The file now contains the information that was in bear_mass_df."
   ]
  }
 ],
 "metadata": {
  "kernelspec": {
   "display_name": "Python 3",
   "language": "python",
   "name": "python3"
  },
  "language_info": {
   "codemirror_mode": {
    "name": "ipython",
    "version": 3
   },
   "file_extension": ".py",
   "mimetype": "text/x-python",
   "name": "python",
   "nbconvert_exporter": "python",
   "pygments_lexer": "ipython3",
   "version": "3.7.0"
  }
 },
 "nbformat": 4,
 "nbformat_minor": 2
}
